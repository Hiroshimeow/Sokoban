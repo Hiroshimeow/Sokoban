{
 "cells": [
  {
   "cell_type": "code",
   "execution_count": null,
   "metadata": {},
   "outputs": [],
   "source": [
    "import math\n",
    "gameFrame = 100\n",
    "position = math.floor(gameFrame/5)%6\n",
    "for x in range(gameFrame):\n",
    "    print(math.floor(x/5)%6)"
   ]
  },
  {
   "cell_type": "code",
   "execution_count": 45,
   "metadata": {},
   "outputs": [],
   "source": [
    "level =[\n",
    "[0,1,1,1,1,1,0,0,0,0],\n",
    "[1,1,4,0,0,1,0,0,0,0],\n",
    "[0,1,0,3,3,1,0,1,1,1],\n",
    "[0,1,0,3,0,1,0,1,2,1],\n",
    "[0,1,1,1,0,1,1,1,2,1],\n",
    "[0,0,1,1,0,0,0,0,2,1],\n",
    "[0,0,1,0,0,0,1,0,0,1],\n",
    "[0,0,1,0,0,0,1,1,1,1],\n",
    "[0,0,1,1,1,1,1,0,0,0]]"
   ]
  },
  {
   "cell_type": "code",
   "execution_count": 44,
   "metadata": {},
   "outputs": [
    {
     "name": "stdout",
     "output_type": "stream",
     "text": [
      "3,8\n",
      "4,8\n",
      "5,8\n"
     ]
    }
   ],
   "source": [
    "for i,rowls in enumerate(level):\n",
    "    for j, rowl in enumerate(rowls):\n",
    "        if rowl == 2:\n",
    "            print(f'{i},{j}')"
   ]
  },
  {
   "cell_type": "code",
   "execution_count": 46,
   "metadata": {},
   "outputs": [
    {
     "ename": "KeyboardInterrupt",
     "evalue": "",
     "output_type": "error",
     "traceback": [
      "\u001b[1;31m---------------------------------------------------------------------------\u001b[0m",
      "\u001b[1;31mKeyboardInterrupt\u001b[0m                         Traceback (most recent call last)",
      "Cell \u001b[1;32mIn[46], line 89\u001b[0m\n\u001b[0;32m     87\u001b[0m \u001b[39mif\u001b[39;00m \u001b[39m__name__\u001b[39m \u001b[39m==\u001b[39m \u001b[39m\"\u001b[39m\u001b[39m__main__\u001b[39m\u001b[39m\"\u001b[39m:\n\u001b[0;32m     88\u001b[0m     start_time \u001b[39m=\u001b[39m time\u001b[39m.\u001b[39mtime()\n\u001b[1;32m---> 89\u001b[0m     main()\n\u001b[0;32m     90\u001b[0m     \u001b[39mprint\u001b[39m(\u001b[39m\"\u001b[39m\u001b[39m--- \u001b[39m\u001b[39m%s\u001b[39;00m\u001b[39m seconds ---\u001b[39m\u001b[39m\"\u001b[39m \u001b[39m%\u001b[39m (time\u001b[39m.\u001b[39mtime() \u001b[39m-\u001b[39m start_time))\n",
      "Cell \u001b[1;32mIn[46], line 75\u001b[0m, in \u001b[0;36mmain\u001b[1;34m()\u001b[0m\n\u001b[0;32m     73\u001b[0m path \u001b[39m=\u001b[39m [state]\n\u001b[0;32m     74\u001b[0m \u001b[39mwhile\u001b[39;00m \u001b[39mTrue\u001b[39;00m:\n\u001b[1;32m---> 75\u001b[0m     found, value \u001b[39m=\u001b[39m search(path, \u001b[39m0\u001b[39;49m, bound, puzzle)\n\u001b[0;32m     76\u001b[0m     \u001b[39mif\u001b[39;00m found:\n\u001b[0;32m     77\u001b[0m         \u001b[39mprint\u001b[39m()\n",
      "Cell \u001b[1;32mIn[46], line 10\u001b[0m, in \u001b[0;36mcounted.<locals>.wrapped\u001b[1;34m(*args, **kwargs)\u001b[0m\n\u001b[0;32m      8\u001b[0m \u001b[39mdef\u001b[39;00m \u001b[39mwrapped\u001b[39m(\u001b[39m*\u001b[39margs, \u001b[39m*\u001b[39m\u001b[39m*\u001b[39mkwargs):\n\u001b[0;32m      9\u001b[0m     wrapped\u001b[39m.\u001b[39mcalls \u001b[39m+\u001b[39m\u001b[39m=\u001b[39m \u001b[39m1\u001b[39m\n\u001b[1;32m---> 10\u001b[0m     \u001b[39mreturn\u001b[39;00m f(\u001b[39m*\u001b[39margs, \u001b[39m*\u001b[39m\u001b[39m*\u001b[39mkwargs)\n",
      "Cell \u001b[1;32mIn[46], line 60\u001b[0m, in \u001b[0;36msearch\u001b[1;34m(path, g, bound, puzzle)\u001b[0m\n\u001b[0;32m     58\u001b[0m \u001b[39mif\u001b[39;00m new_state \u001b[39mnot\u001b[39;00m \u001b[39min\u001b[39;00m path:\n\u001b[0;32m     59\u001b[0m     path\u001b[39m.\u001b[39mappend(new_state)\n\u001b[1;32m---> 60\u001b[0m     found, value \u001b[39m=\u001b[39m search(path, g\u001b[39m+\u001b[39;49m\u001b[39m1\u001b[39;49m, bound, puzzle)\n\u001b[0;32m     61\u001b[0m     \u001b[39mif\u001b[39;00m found:\n\u001b[0;32m     62\u001b[0m         \u001b[39mreturn\u001b[39;00m found, bound\n",
      "Cell \u001b[1;32mIn[46], line 10\u001b[0m, in \u001b[0;36mcounted.<locals>.wrapped\u001b[1;34m(*args, **kwargs)\u001b[0m\n\u001b[0;32m      8\u001b[0m \u001b[39mdef\u001b[39;00m \u001b[39mwrapped\u001b[39m(\u001b[39m*\u001b[39margs, \u001b[39m*\u001b[39m\u001b[39m*\u001b[39mkwargs):\n\u001b[0;32m      9\u001b[0m     wrapped\u001b[39m.\u001b[39mcalls \u001b[39m+\u001b[39m\u001b[39m=\u001b[39m \u001b[39m1\u001b[39m\n\u001b[1;32m---> 10\u001b[0m     \u001b[39mreturn\u001b[39;00m f(\u001b[39m*\u001b[39margs, \u001b[39m*\u001b[39m\u001b[39m*\u001b[39mkwargs)\n",
      "Cell \u001b[1;32mIn[46], line 60\u001b[0m, in \u001b[0;36msearch\u001b[1;34m(path, g, bound, puzzle)\u001b[0m\n\u001b[0;32m     58\u001b[0m \u001b[39mif\u001b[39;00m new_state \u001b[39mnot\u001b[39;00m \u001b[39min\u001b[39;00m path:\n\u001b[0;32m     59\u001b[0m     path\u001b[39m.\u001b[39mappend(new_state)\n\u001b[1;32m---> 60\u001b[0m     found, value \u001b[39m=\u001b[39m search(path, g\u001b[39m+\u001b[39;49m\u001b[39m1\u001b[39;49m, bound, puzzle)\n\u001b[0;32m     61\u001b[0m     \u001b[39mif\u001b[39;00m found:\n\u001b[0;32m     62\u001b[0m         \u001b[39mreturn\u001b[39;00m found, bound\n",
      "    \u001b[1;31m[... skipping similar frames: counted.<locals>.wrapped at line 10 (20 times), search at line 60 (19 times)]\u001b[0m\n",
      "Cell \u001b[1;32mIn[46], line 60\u001b[0m, in \u001b[0;36msearch\u001b[1;34m(path, g, bound, puzzle)\u001b[0m\n\u001b[0;32m     58\u001b[0m \u001b[39mif\u001b[39;00m new_state \u001b[39mnot\u001b[39;00m \u001b[39min\u001b[39;00m path:\n\u001b[0;32m     59\u001b[0m     path\u001b[39m.\u001b[39mappend(new_state)\n\u001b[1;32m---> 60\u001b[0m     found, value \u001b[39m=\u001b[39m search(path, g\u001b[39m+\u001b[39;49m\u001b[39m1\u001b[39;49m, bound, puzzle)\n\u001b[0;32m     61\u001b[0m     \u001b[39mif\u001b[39;00m found:\n\u001b[0;32m     62\u001b[0m         \u001b[39mreturn\u001b[39;00m found, bound\n",
      "Cell \u001b[1;32mIn[46], line 10\u001b[0m, in \u001b[0;36mcounted.<locals>.wrapped\u001b[1;34m(*args, **kwargs)\u001b[0m\n\u001b[0;32m      8\u001b[0m \u001b[39mdef\u001b[39;00m \u001b[39mwrapped\u001b[39m(\u001b[39m*\u001b[39margs, \u001b[39m*\u001b[39m\u001b[39m*\u001b[39mkwargs):\n\u001b[0;32m      9\u001b[0m     wrapped\u001b[39m.\u001b[39mcalls \u001b[39m+\u001b[39m\u001b[39m=\u001b[39m \u001b[39m1\u001b[39m\n\u001b[1;32m---> 10\u001b[0m     \u001b[39mreturn\u001b[39;00m f(\u001b[39m*\u001b[39margs, \u001b[39m*\u001b[39m\u001b[39m*\u001b[39mkwargs)\n",
      "Cell \u001b[1;32mIn[46], line 37\u001b[0m, in \u001b[0;36msearch\u001b[1;34m(path, g, bound, puzzle)\u001b[0m\n\u001b[0;32m     34\u001b[0m \u001b[39m@counted\u001b[39m\n\u001b[0;32m     35\u001b[0m \u001b[39mdef\u001b[39;00m \u001b[39msearch\u001b[39m(path, g, bound, puzzle):\n\u001b[0;32m     36\u001b[0m     node \u001b[39m=\u001b[39m path[\u001b[39m-\u001b[39m\u001b[39m1\u001b[39m]\n\u001b[1;32m---> 37\u001b[0m     f \u001b[39m=\u001b[39m g \u001b[39m+\u001b[39m node\u001b[39m.\u001b[39;49mdistance(puzzle\u001b[39m.\u001b[39;49mgoals)\n\u001b[0;32m     38\u001b[0m     \u001b[39mif\u001b[39;00m f \u001b[39m>\u001b[39m bound:\n\u001b[0;32m     39\u001b[0m         \u001b[39mreturn\u001b[39;00m \u001b[39mFalse\u001b[39;00m, f\n",
      "File \u001b[1;32md:\\SOTAY HIROSI\\KAMOKU\\năm 2,  kì 1\\.T6\\高度プログラミングC\\Dir\\Sokoban\\JS\\state.py:22\u001b[0m, in \u001b[0;36mState.distance\u001b[1;34m(self, goals)\u001b[0m\n\u001b[0;32m     20\u001b[0m     b, d \u001b[39m=\u001b[39m \u001b[39mmin\u001b[39m([(b, \u001b[39mself\u001b[39m\u001b[39m.\u001b[39mmanhattan(b, g)) \u001b[39mfor\u001b[39;00m b \u001b[39min\u001b[39;00m boxes_copy], key\u001b[39m=\u001b[39m\u001b[39mlambda\u001b[39;00m t: t[\u001b[39m1\u001b[39m])\n\u001b[0;32m     21\u001b[0m     result \u001b[39m+\u001b[39m\u001b[39m=\u001b[39m d\n\u001b[1;32m---> 22\u001b[0m     boxes_copy\u001b[39m.\u001b[39;49mremove(b)\n\u001b[0;32m     23\u001b[0m \u001b[39mreturn\u001b[39;00m result\n",
      "\u001b[1;31mKeyboardInterrupt\u001b[0m: "
     ]
    }
   ],
   "source": [
    "import os\n",
    "import psutil\n",
    "import time\n",
    "from state import State\n",
    "from move import Up, Down, Left, Right\n",
    "\n",
    "def counted(f):\n",
    "    def wrapped(*args, **kwargs):\n",
    "        wrapped.calls += 1\n",
    "        return f(*args, **kwargs)\n",
    "    wrapped.calls = 0\n",
    "    return wrapped\n",
    "\n",
    "class MyPuzzle:\n",
    "    def __init__(self):\n",
    "        # self.walls = [[0, 1, 0, 1, 0, 0],\n",
    "        #               [0, 1, 0, 1, 1, 1],\n",
    "        #               [1, 1, 0, 0, 0, 0],\n",
    "        #               [0, 0, 0, 0, 1, 1],\n",
    "        #               [1, 1, 1, 0, 1, 0],\n",
    "        #               [0, 0, 1, 0, 1, 0]]\n",
    "        # self.player = (3, 3)\n",
    "        # self.boxes = [(2, 2), (2, 4), (3, 2), (4, 3)]\n",
    "        # self.goals = [(0, 2), (2, 5), (3, 0), (5, 3)]\n",
    "\n",
    "\n",
    "        self.walls = level\n",
    "        self.player = (1,2)\n",
    "        self.boxes = [(2,3), (2,4), (3,3)]\n",
    "        self.goals = [(3,8), (4,8), (5,8)]\n",
    "\n",
    "\n",
    "\n",
    "@counted\n",
    "def search(path, g, bound, puzzle):\n",
    "    node = path[-1]\n",
    "    f = g + node.distance(puzzle.goals)\n",
    "    if f > bound:\n",
    "        return False, f\n",
    "    if node.success(puzzle.goals):\n",
    "        for state_index in range(1, len(path)):\n",
    "            if path[state_index-1].player[0] < path[state_index].player[0]:\n",
    "                print(\"Down\", end=\" \")\n",
    "            elif path[state_index-1].player[0] > path[state_index].player[0]:\n",
    "                print(\"Up\", end=\" \")\n",
    "            elif path[state_index-1].player[1] < path[state_index].player[1]:\n",
    "                print(\"Right\", end=\" \")\n",
    "            else:\n",
    "                print(\"Left\", end=\" \")\n",
    "        return True, bound\n",
    "    minimum = None\n",
    "    moves = [Up, Down, Right, Left]\n",
    "    for cm in moves:\n",
    "        m = cm(puzzle.walls)\n",
    "        new_state = m.get_state(node)\n",
    "        if new_state is None:\n",
    "            continue\n",
    "        if new_state not in path:\n",
    "            path.append(new_state)\n",
    "            found, value = search(path, g+1, bound, puzzle)\n",
    "            if found:\n",
    "                return found, bound\n",
    "            if value is not None and (minimum is None or value < minimum):\n",
    "                minimum = value\n",
    "            path.pop(-1)\n",
    "    return False, minimum\n",
    "\n",
    "\n",
    "def main():\n",
    "    puzzle = MyPuzzle()\n",
    "    state = State(puzzle.player, puzzle.boxes)\n",
    "    bound = state.distance(puzzle.goals)*2  # since in general we have to move and go back\n",
    "    path = [state]\n",
    "    while True:\n",
    "        found, value = search(path, 0, bound, puzzle)\n",
    "        if found:\n",
    "            print()\n",
    "            print(\"search calls:\", search.calls)\n",
    "            process = psutil.Process(os.getpid())\n",
    "            print(process.memory_info().rss / (1024 * 1024))  # in megabytes\n",
    "            return path, bound\n",
    "        if value is None:\n",
    "            return \"not found\"\n",
    "        bound = value\n",
    "\n",
    "\n",
    "if __name__ == \"__main__\":\n",
    "    start_time = time.time()\n",
    "    main()\n",
    "    print(\"--- %s seconds ---\" % (time.time() - start_time))"
   ]
  },
  {
   "cell_type": "markdown",
   "metadata": {},
   "source": [
    "https://github.com/JendaPlhak/math_in_python/blob/master/JendasWork/10_task/cmt/sokoban.cmt\n",
    "\n",
    "\n",
    "https://www.geeksforgeeks.org/a-search-algorithm/\n",
    "\n",
    "\n",
    "https://github.com/cynrd/blog/blob/master/sokoban_astar/main.py\n",
    "\n",
    "\n",
    "https://verificationglasses.wordpress.com/2021/01/17/a-star-sokoban-planning/\n",
    "\n",
    "\n",
    "https://github.com/csdankim/MCTS_Sokoban/blob/master/Final_Project_Report_Sokoban.pdf"
   ]
  }
 ],
 "metadata": {
  "kernelspec": {
   "display_name": "Python 3",
   "language": "python",
   "name": "python3"
  },
  "language_info": {
   "codemirror_mode": {
    "name": "ipython",
    "version": 3
   },
   "file_extension": ".py",
   "mimetype": "text/x-python",
   "name": "python",
   "nbconvert_exporter": "python",
   "pygments_lexer": "ipython3",
   "version": "3.10.0"
  },
  "orig_nbformat": 4
 },
 "nbformat": 4,
 "nbformat_minor": 2
}
